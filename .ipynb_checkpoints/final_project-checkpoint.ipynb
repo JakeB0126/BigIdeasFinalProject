{
 "cells": [
  {
   "cell_type": "markdown",
   "metadata": {},
   "source": [
    "# Best Neighborhood in Pittsburgh\n",
    "#### Group Members: Jake Biondolillo (jwb141@pitt.edu), Laura Liang (lrl45@pitt.edu), Insiah Kizilbash (ink27@pitt.edu)\n",
    "#### Group Name: JIL\n",
    "\n",
    "(intro of metrics used)\n",
    "\n",
    "(Jake's metric part here)\n",
    "\n",
    "\n",
    "(Laura's metric part here)\n",
    "\n",
    "\n",
    "(Insiah's metric part here)\n",
    "\n",
    "\n",
    "\n",
    "#### Conclusion:\n",
    "\n",
    "(Jake's reflection part here)\n",
    "\n",
    "\n",
    "(Laura's reflection part here)\n",
    "\n",
    "\n",
    "(Insiah's reflection part here)"
   ]
  },
  {
   "cell_type": "code",
   "execution_count": null,
   "metadata": {},
   "outputs": [],
   "source": []
  }
 ],
 "metadata": {
  "kernelspec": {
   "display_name": "Python 3",
   "language": "python",
   "name": "python3"
  },
  "language_info": {
   "codemirror_mode": {
    "name": "ipython",
    "version": 3
   },
   "file_extension": ".py",
   "mimetype": "text/x-python",
   "name": "python",
   "nbconvert_exporter": "python",
   "pygments_lexer": "ipython3",
   "version": "3.8.3"
  }
 },
 "nbformat": 4,
 "nbformat_minor": 4
}
